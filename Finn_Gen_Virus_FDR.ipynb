{
 "cells": [
  {
   "cell_type": "markdown",
   "id": "079e424d",
   "metadata": {},
   "source": [
    "# FinnGenn Virus FDR Correction"
   ]
  },
  {
   "cell_type": "code",
   "execution_count": null,
   "id": "7d0bee4d",
   "metadata": {},
   "outputs": [],
   "source": [
    "# Imports here.\n",
    "import numpy as np\n",
    "import pandas as pd\n",
    "import os\n",
    "import statsmodels.api as sm\n",
    "import statsmodels.formula.api as smf\n",
    "from statsmodels.stats.multitest import fdrcorrection\n",
    "import warnings\n",
    "warnings.filterwarnings(\"ignore\")\n",
    "\n",
    "#Directory in Biowulf\n",
    "os.chdir('/PATH/TO/FinnGen_Data')"
   ]
  },
  {
   "cell_type": "code",
   "execution_count": null,
   "id": "7a356c9f",
   "metadata": {},
   "outputs": [],
   "source": [
    "#Loading all the disease files\n",
    "#Files downloaded from FinnGen on 5-5-22\n",
    "AD_finn = pd.read_csv('G6_ALZHEIMER_survival-analyses.csv')\n",
    "ALS_finn = pd.read_csv('G6_ALS_survival-analyses.csv')\n",
    "dementia_finn = pd.read_csv('F5_DEMENTIA_survival-analyses.csv')\n",
    "MS_finn = pd.read_csv('G6_MS_survival-analyses.csv')\n",
    "PD_finn = pd.read_csv('G6_PARKINSON_survival-analyses.csv')\n",
    "vascular_finn = pd.read_csv('F5_VASCDEM_survival-analyses.csv')\n",
    "\n",
    "#Loading our serach term, i.e. list of viruses -- created in previous step \"FinnGen_Search_Terms\"\n",
    "search_terms = pd.read_csv('FinnGen_Search_Terms.csv') "
   ]
  },
  {
   "cell_type": "code",
   "execution_count": null,
   "id": "156d4d84",
   "metadata": {},
   "outputs": [],
   "source": [
    "#Pick your NDD here\n",
    "NDD = AD_finn\n",
    "ndd = \"AD\""
   ]
  },
  {
   "cell_type": "code",
   "execution_count": null,
   "id": "e53bf936",
   "metadata": {},
   "outputs": [],
   "source": [
    "#Select rows that are in our list of possible viruses\n",
    "virus_list = list(search_terms['Endpoint'])\n",
    "\n",
    "#Select viral exposures to before NDD diagnosis\n",
    "had_virus = NDD[NDD['prior_name'].isin(virus_list)]"
   ]
  },
  {
   "cell_type": "code",
   "execution_count": null,
   "id": "8896bc46-8455-458b-a96a-23a9699ed262",
   "metadata": {},
   "outputs": [],
   "source": [
    "#Setting lag time to 0 (anytime before NDD diagnosis)\n",
    "had_virus = had_virus.loc[had_virus['hr_lag'] == 0]\n",
    "\n",
    "#Dropping columns we don't need\n",
    "had_virus = had_virus.drop(['hr_lag', 'outcome_longname'], axis=1)\n",
    "had_virus = had_virus[['outcome_name','prior_name', 'prior_longname', 'hr', 'ci_min', 'ci_max', 'p', 'N']]\n",
    "had_virus = had_virus.rename(columns = {'outcome_name':'NDD', 'prior_name':'Viral_Code', 'prior_longname':'Virus_Description'})"
   ]
  },
  {
   "cell_type": "code",
   "execution_count": null,
   "id": "15170867-dae1-4073-9d48-49d151d01412",
   "metadata": {},
   "outputs": [],
   "source": [
    "#If you would like to look at individual lags before diagnosis omit above cell and run this one instead:\n",
    "\n",
    "#Dropping columns we don't need\n",
    "#had_virus = had_virus.drop(['outcome_longname'], axis=1)\n",
    "#had_virus = had_virus[['outcome_name','prior_name', 'prior_longname', 'hr_lag','hr', 'ci_min', 'ci_max', 'p', 'N']]\n",
    "#had_virus = had_virus.rename(columns = {'outcome_name':'NDD', 'prior_name':'Viral_Code', 'prior_longname':'Virus_Description'})"
   ]
  },
  {
   "cell_type": "code",
   "execution_count": null,
   "id": "6ec844d7",
   "metadata": {},
   "outputs": [],
   "source": [
    "#checking results\n",
    "print(len(had_virus))\n",
    "had_virus.head()"
   ]
  },
  {
   "cell_type": "code",
   "execution_count": null,
   "id": "bf94d8a8",
   "metadata": {},
   "outputs": [],
   "source": [
    "#Adding FDR Correction\n",
    "\n",
    "#Sort P-values\n",
    "had_virus = had_virus.sort_values(by = \"p\")\n",
    "\n",
    "#FDR Correction\n",
    "rejected, p_corr = fdrcorrection(had_virus['p'], is_sorted=True)\n",
    "had_virus['P_CORR'] = p_corr\n",
    "had_virus['REJECTED'] = rejected"
   ]
  },
  {
   "cell_type": "code",
   "execution_count": null,
   "id": "4c10a5e7",
   "metadata": {},
   "outputs": [],
   "source": [
    "#Check results\n",
    "had_virus.head()"
   ]
  },
  {
   "cell_type": "code",
   "execution_count": null,
   "id": "9c6335cd",
   "metadata": {},
   "outputs": [],
   "source": [
    "#Save to csv\n",
    "had_virus.to_csv(ndd + \"_virus_finn_gen.csv\", index=False)"
   ]
  }
 ],
 "metadata": {
  "kernelspec": {
   "display_name": "Python 3 (ipykernel)",
   "language": "python",
   "name": "python3"
  },
  "language_info": {
   "codemirror_mode": {
    "name": "ipython",
    "version": 3
   },
   "file_extension": ".py",
   "mimetype": "text/x-python",
   "name": "python",
   "nbconvert_exporter": "python",
   "pygments_lexer": "ipython3",
   "version": "3.9.13"
  }
 },
 "nbformat": 4,
 "nbformat_minor": 5
}
