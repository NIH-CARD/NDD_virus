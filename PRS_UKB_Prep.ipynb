{
 "cells": [
  {
   "cell_type": "markdown",
   "id": "655ff6bd",
   "metadata": {
    "tags": []
   },
   "source": [
    "# PRS Prep for UKB"
   ]
  },
  {
   "cell_type": "code",
   "execution_count": null,
   "id": "8318d124",
   "metadata": {},
   "outputs": [],
   "source": [
    "# Imports here.\n",
    "import numpy as np\n",
    "import pandas as pd\n",
    "import os\n",
    "\n",
    "import warnings\n",
    "warnings.filterwarnings(\"ignore\")"
   ]
  },
  {
   "cell_type": "code",
   "execution_count": null,
   "id": "fe161dc8-0fbc-4889-8a2a-da80506e2cb5",
   "metadata": {},
   "outputs": [],
   "source": [
    "#Directory in Biowulf that contains the UKB genetic data\n",
    "#Make sure you have PLINK\n",
    "os.chdir('/path/to/UKB/data/bfile')"
   ]
  },
  {
   "cell_type": "markdown",
   "id": "b09e0d19-7b8a-45a9-b350-2d4a6f08cf68",
   "metadata": {},
   "source": [
    "## Activity scores -- overall activity and sedentary traits included\n",
    "Table from:\n",
    "Doherty, A., Smith-Byrne, K., Ferreira, T., Holmes, M.V., Holmes, C., Pulit, S.L., and Lindgren, C.M. (2018). GWAS identifies 14 loci for device-measured physical activity and sleep duration. Nat. Commun. 9, 5257"
   ]
  },
  {
   "cell_type": "code",
   "execution_count": null,
   "id": "23f72ed7-35d1-42c7-95ce-c399f3106779",
   "metadata": {},
   "outputs": [],
   "source": [
    "#Load table from study - include only \"overall activity\" and \"sedendary\"\n",
    "df = pd.read_csv('/path/to/activity.csv')\n",
    "df = df[df['Trait']!= 'Sleep duration']\n",
    "df.head()"
   ]
  },
  {
   "cell_type": "code",
   "execution_count": null,
   "id": "f6ddb102-a487-4eb2-bdf4-27dab91f2221",
   "metadata": {},
   "outputs": [],
   "source": [
    "#Create an \"activity\" file that includes the info needed (\"SNP\", 'Allele (effect)', 'Beta')\n",
    "activity_file = pd.read_csv('/path/to/activity_file.txt', sep = ' ')\n",
    "activity_file.head()"
   ]
  },
  {
   "cell_type": "code",
   "execution_count": null,
   "id": "dcc3d5b2-56a8-44a3-9eec-499c3acb5dee",
   "metadata": {
    "tags": []
   },
   "outputs": [],
   "source": [
    "#Create a list of the chromosomes\n",
    "chrom_list = list(df['Ch'])\n",
    "chrom_list = set(chrom_list)\n",
    "chrom_list"
   ]
  },
  {
   "cell_type": "code",
   "execution_count": null,
   "id": "2c29c1ee-0e45-4a0f-819a-18eb77c55783",
   "metadata": {},
   "outputs": [],
   "source": [
    "#Create list of snps; save as activity_snp_list.txt\n",
    "!cat /path/to/activity_snp_list.txt"
   ]
  },
  {
   "cell_type": "code",
   "execution_count": null,
   "id": "a3e8763e-8ad0-4da3-906f-cbbac6829b57",
   "metadata": {
    "tags": []
   },
   "outputs": [],
   "source": [
    "#Extract SNPs for activity\n",
    "activity_chroms = ['3', '5', '7', '10', '17', '18']\n",
    "for i in activity_chroms:\n",
    "    !plink --bfile /path/to/UKBIOBANK/FILTER_IMPUTED_DATA/bfile/chr{i}.UKBB.EU.filtered --extract /data/levineks/Virus/activity_snp_list.txt --make-bed --out activity_chr{i}"
   ]
  },
  {
   "cell_type": "code",
   "execution_count": null,
   "id": "e98e3695-f5b9-4fe4-977e-3956248f3cb0",
   "metadata": {},
   "outputs": [],
   "source": [
    "#Create list of files for merge; save as activity_merge.txt\n",
    "activity_chroms = ['3', '5', '7', '10', '17', '18']\n",
    "for i in activity_chroms:\n",
    "    print(f'/path/to/UKBIOBANK/FILTER_IMPUTED_DATA/bfile/activity_chr{i}')"
   ]
  },
  {
   "cell_type": "code",
   "execution_count": null,
   "id": "b4c35a72-ea42-47a2-8f96-cd37260b5c16",
   "metadata": {
    "tags": []
   },
   "outputs": [],
   "source": [
    "#Merge the individual chromosome files\n",
    "!plink --merge-list /data/levineks/Virus/activity_merge.txt --make-bed --out activity_merged"
   ]
  },
  {
   "cell_type": "code",
   "execution_count": null,
   "id": "9dbe3fe7-3254-4432-910f-6eec906dcd61",
   "metadata": {
    "tags": []
   },
   "outputs": [],
   "source": [
    "#Get the --score for the merged files\n",
    "!plink --bfile /path/to/UKBIOBANK/FILTER_IMPUTED_DATA/bfile/activity_merged --score /path/to/activity_file.txt header --out /path/to/activity_prs_test"
   ]
  },
  {
   "cell_type": "code",
   "execution_count": null,
   "id": "637f6834-207f-4159-9d1b-128fe801cb0c",
   "metadata": {
    "tags": []
   },
   "outputs": [],
   "source": [
    "#Take a look at the results\n",
    "activity = pd.read_csv('/path/to/activity_prs_test.profile', sep = '\\s+')\n",
    "activity.head()"
   ]
  },
  {
   "cell_type": "markdown",
   "id": "d0176e11-18e9-416a-95f9-b14a4fbb8cfb",
   "metadata": {},
   "source": [
    "## Diet scores -- protein included\n",
    "Table from: Meddens, S.F.W., de Vlaming, R., Bowers, P., Burik, C.A.P., Linnér, R.K., Lee, C., Okbay, A., Turley, P., Rietveld, C.A., Fontana, M.A., et al. (2021). Genomic analysis of diet composition finds novel loci and associations with health and lifestyle. Mol. Psychiatry 26, 2056–2069"
   ]
  },
  {
   "cell_type": "code",
   "execution_count": null,
   "id": "5d3abe67-c81a-472e-8172-e760e4d3bd52",
   "metadata": {},
   "outputs": [],
   "source": [
    "#Load table from study - include only \"protein\"\n",
    "df = pd.read_csv('/path/to/diet.csv')\n",
    "df = df[df['Top hit in locus for']=='Protein']\n",
    "df.head()"
   ]
  },
  {
   "cell_type": "code",
   "execution_count": null,
   "id": "92588a1c-eb02-45dd-beb9-948e2deddd3d",
   "metadata": {},
   "outputs": [],
   "source": [
    "#Pick the correct columns and save to file - 'SNPID', 'Effect allele', 'Beta'\n",
    "#Remember to make effect alleles UPPER CASE\n",
    "diet_file = pd.read_csv('/path/to/diet_file.txt', sep = ' ')\n",
    "diet_file"
   ]
  },
  {
   "cell_type": "code",
   "execution_count": null,
   "id": "891a02c4-77bb-473b-b629-5fed8d47d4bb",
   "metadata": {},
   "outputs": [],
   "source": [
    "#Create a list of the chromosomes\n",
    "chrom_list = list(df['CHR'])\n",
    "chrom_list = set(chrom_list)\n",
    "chrom_list"
   ]
  },
  {
   "cell_type": "code",
   "execution_count": null,
   "id": "ab468b6c-2016-44d4-8d3d-8005e1110a05",
   "metadata": {},
   "outputs": [],
   "source": [
    "#Create a list of SNPs; save to diet_snp_list.txt\n",
    "!cat /path/to/Virus/diet_snp_list.txt"
   ]
  },
  {
   "cell_type": "code",
   "execution_count": null,
   "id": "da6f9a62-1fe5-4670-b9ea-738fc9095228",
   "metadata": {
    "tags": []
   },
   "outputs": [],
   "source": [
    "#Extract SNPs for diet\n",
    "diet_chroms = ['2', '3', '4', '8', '16', '19']\n",
    "for i in diet_chroms:\n",
    "    !plink --bfile /path/to/UKBIOBANK/FILTER_IMPUTED_DATA/bfile/chr{i}.UKBB.EU.filtered --extract /path/to/diet_snp_list.txt --make-bed --out diet_chr{i}"
   ]
  },
  {
   "cell_type": "code",
   "execution_count": null,
   "id": "cc66312b-d754-4dbb-a738-2d44fc965091",
   "metadata": {},
   "outputs": [],
   "source": [
    "##Error: No variants remaining after --extract for chr19 -- Remove #19\n",
    "#Create list of files for merge; save as diet_merge.txt\n",
    "diet_chroms = ['2', '3', '4', '8', '16']\n",
    "for i in diet_chroms:\n",
    "    print(f'/path/to/UKBIOBANK/FILTER_IMPUTED_DATA/bfile/diet_chr{i}')"
   ]
  },
  {
   "cell_type": "code",
   "execution_count": null,
   "id": "f157edef-f4a8-4828-ae0c-14f0838f28b8",
   "metadata": {
    "tags": []
   },
   "outputs": [],
   "source": [
    "#Merge the individual chromosome files\n",
    "!plink --merge-list /path/to/diet_merge.txt --make-bed --out diet_merged"
   ]
  },
  {
   "cell_type": "code",
   "execution_count": null,
   "id": "936dc774-9e6d-485a-bee3-f9674ba51b23",
   "metadata": {
    "tags": []
   },
   "outputs": [],
   "source": [
    "#Get the --score for the merged files\n",
    "!plink --bfile /path/to/UKBIOBANK/FILTER_IMPUTED_DATA/bfile/diet_merged --score /path/to/diet_file.txt header --out /path/to/diet_prs_test"
   ]
  },
  {
   "cell_type": "code",
   "execution_count": null,
   "id": "180fc0da-8c50-4306-a3b4-cd4722b9d9f4",
   "metadata": {},
   "outputs": [],
   "source": [
    "#Take a look at the results\n",
    "diet = pd.read_csv('/path/to/diet_prs_test.profile', sep = '\\s+')\n",
    "diet.head()"
   ]
  },
  {
   "cell_type": "code",
   "execution_count": null,
   "id": "282c3eaf-cf84-4d1d-b152-bbbcbd973642",
   "metadata": {},
   "outputs": [],
   "source": []
  }
 ],
 "metadata": {
  "kernelspec": {
   "display_name": "Python 3 (ipykernel)",
   "language": "python",
   "name": "python3"
  },
  "language_info": {
   "codemirror_mode": {
    "name": "ipython",
    "version": 3
   },
   "file_extension": ".py",
   "mimetype": "text/x-python",
   "name": "python",
   "nbconvert_exporter": "python",
   "pygments_lexer": "ipython3",
   "version": "3.9.13"
  }
 },
 "nbformat": 4,
 "nbformat_minor": 5
}
