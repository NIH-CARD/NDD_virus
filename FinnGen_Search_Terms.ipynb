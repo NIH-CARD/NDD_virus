{
 "cells": [
  {
   "cell_type": "markdown",
   "id": "587865aa",
   "metadata": {},
   "source": [
    "# Selecting Viral Search Terms from FinnGen"
   ]
  },
  {
   "cell_type": "code",
   "execution_count": null,
   "id": "a100bbad",
   "metadata": {},
   "outputs": [],
   "source": [
    "# Imports here.\n",
    "import numpy as np\n",
    "import pandas as pd\n",
    "import os\n",
    "import statsmodels.api as sm\n",
    "import statsmodels.formula.api as smf\n",
    "import warnings\n",
    "warnings.filterwarnings(\"ignore\")\n",
    "\n",
    "#Change directory to files\n",
    "os.chdir('/PATH/TO/FinnGen_Files')"
   ]
  },
  {
   "cell_type": "code",
   "execution_count": null,
   "id": "15c8b13c",
   "metadata": {},
   "outputs": [],
   "source": [
    "#Loading all the disease files\n",
    "#Files downloaded from FinnGen on 5-5-22\n",
    "AD_finn = pd.read_csv('G6_ALZHEIMER_survival-analyses.csv')\n",
    "ALS_finn = pd.read_csv('G6_ALS_survival-analyses.csv')\n",
    "dementia_finn = pd.read_csv('F5_DEMENTIA_survival-analyses.csv')\n",
    "MS_finn = pd.read_csv('G6_MS_survival-analyses.csv')\n",
    "PD_finn = pd.read_csv('G6_PARKINSON_survival-analyses.csv')\n",
    "vascular_finn = pd.read_csv('F5_VASCDEM_survival-analyses.csv')\n",
    "\n",
    "#Load file with all the FinnGen Endpoints -- download from FinnGen\n",
    "finngen = pd.read_csv(\"finngen_endpoints.tsv\", delimiter=\"\\t\")\n",
    "print(len(finngen))"
   ]
  },
  {
   "cell_type": "code",
   "execution_count": null,
   "id": "59dad6dc",
   "metadata": {},
   "outputs": [],
   "source": [
    "#Concat individual files together\n",
    "df = pd.concat([AD_finn, ALS_finn, dementia_finn, MS_finn, PD_finn, vascular_finn], ignore_index=True)\n",
    "print(len(df))\n",
    "\n",
    "prior_list = list(df['prior_name'])\n",
    "prior_list = set(prior_list)\n",
    "print(\"Number of endpoints with NDD data:\", len(prior_list))"
   ]
  },
  {
   "cell_type": "code",
   "execution_count": null,
   "id": "1fbe0c71",
   "metadata": {},
   "outputs": [],
   "source": [
    "#from all the endpoints, select the categories we have data for\n",
    "finngen_data = finngen[finngen.phenocode.isin(prior_list)==True]\n",
    "print(len(finngen_data))"
   ]
  },
  {
   "cell_type": "code",
   "execution_count": null,
   "id": "b2e377d7",
   "metadata": {},
   "outputs": [],
   "source": [
    "#Create a lowercast list of all the code descriptions\n",
    "my_list = finngen_data[\"phenotype\"].str.lower()\n",
    "\n",
    "#List of all viral-related keywords\n",
    "virus = ['viral', 'virus', 'mononucleosis', 'epstein', 'ebv', 'encephalitis', 'hepatitis', 'meningitis', 'warts',\n",
    "        'influenza', \"bell's_palsy\", 's palsy', 'chicken', 'shingles', 'zoster', 'measles', 'varicella', 'herpes', 'myocarditis', \n",
    "         'erythema multiforme', \"subacute thyroiditis\", 'cold']\n",
    "\n",
    "#Create empty df\n",
    "df = pd.DataFrame()\n",
    "\n",
    "# Add each virus to df\n",
    "for sub in virus:\n",
    "    finngen_data[sub]= my_list.str.find(sub)\n",
    "    df1 = finngen_data.loc[finngen_data[sub] != -1]\n",
    "    print(sub, 'codes:', len(df1))\n",
    "    df = df.append(df1)"
   ]
  },
  {
   "cell_type": "code",
   "execution_count": null,
   "id": "ba0dcf06",
   "metadata": {},
   "outputs": [],
   "source": [
    "#Remove duplicates\n",
    "total_codes = df.drop_duplicates(subset=['phenocode'])\n",
    "print(\"Without duplicates:\", len(total_codes))"
   ]
  },
  {
   "cell_type": "code",
   "execution_count": null,
   "id": "4cb4dc3a",
   "metadata": {},
   "outputs": [],
   "source": [
    "#Create df of codes, meaning, number of cases\n",
    "search_terms = total_codes[['phenocode','phenotype', 'number of cases']]\n",
    "\n",
    "print(len(search_terms))\n",
    "search_terms"
   ]
  },
  {
   "cell_type": "code",
   "execution_count": null,
   "id": "9198e908",
   "metadata": {},
   "outputs": [],
   "source": [
    "#Create and save csv file for search terms to use in analysis\n",
    "search_terms.to_csv(\"FinnGen_search_terms.csv\", index=False)"
   ]
  }
 ],
 "metadata": {
  "kernelspec": {
   "display_name": "Python 3 (ipykernel)",
   "language": "python",
   "name": "python3"
  },
  "language_info": {
   "codemirror_mode": {
    "name": "ipython",
    "version": 3
   },
   "file_extension": ".py",
   "mimetype": "text/x-python",
   "name": "python",
   "nbconvert_exporter": "python",
   "pygments_lexer": "ipython3",
   "version": "3.9.13"
  }
 },
 "nbformat": 4,
 "nbformat_minor": 5
}
