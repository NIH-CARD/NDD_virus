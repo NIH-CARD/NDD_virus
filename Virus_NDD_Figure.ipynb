{
 "cells": [
  {
   "cell_type": "code",
   "execution_count": null,
   "id": "bb3e1b8c",
   "metadata": {
    "colab": {
     "base_uri": "https://localhost:8080/"
    },
    "id": "bb3e1b8c",
    "outputId": "5a9febff-f685-47be-90c6-b96b48af9664"
   },
   "outputs": [],
   "source": [
    "# Imports here.\n",
    "import numpy as np\n",
    "import pandas as pd\n",
    "import os\n",
    "import statsmodels.api as sm\n",
    "import statsmodels.formula.api as smf\n",
    "from statsmodels.stats.multitest import fdrcorrection\n",
    "import warnings\n",
    "import matplotlib.pyplot as plt\n",
    "import plotly.express as px\n",
    "\n",
    "warnings.filterwarnings(\"ignore\")\n",
    "\n",
    "! pip install -U kaleido \n",
    "\n",
    "#Directory in Biowulf\n",
    "os.chdir(\"/PATH/TO/regression_results/\")"
   ]
  },
  {
   "cell_type": "code",
   "execution_count": null,
   "id": "47b80a12",
   "metadata": {
    "id": "47b80a12"
   },
   "outputs": [],
   "source": [
    "#Load data -- created in Finn_Gen_Virus_FDR \n",
    "#Use \"individual lags before diagnosis\" step and combine results for all NDDs\n",
    "NDD = pd.read_csv(\"finn_gen_replicated_lags.csv\")"
   ]
  },
  {
   "cell_type": "code",
   "execution_count": null,
   "id": "eCwh865LXYLt",
   "metadata": {
    "colab": {
     "base_uri": "https://localhost:8080/",
     "height": 833
    },
    "id": "eCwh865LXYLt",
    "outputId": "0cda4788-0fc3-4065-d0fc-a66ad134f43f"
   },
   "outputs": [],
   "source": [
    "# Reorder and munge for clarity\n",
    "NDD['combo'] = NDD['NDD'] + \"_\" + NDD['Virus_Description']\n",
    "NDD.sort_values(by = ['combo', 'hr_lag'], ascending = [True, False])\n",
    "NDD.head()"
   ]
  },
  {
   "cell_type": "code",
   "execution_count": null,
   "id": "_NADQ2tadGZO",
   "metadata": {
    "colab": {
     "base_uri": "https://localhost:8080/",
     "height": 817
    },
    "id": "_NADQ2tadGZO",
    "outputId": "b3472a9a-316b-4248-b1b2-cf994062e739"
   },
   "outputs": [],
   "source": [
    "# Plot results\n",
    "plt.clf()\n",
    "\n",
    "df = NDD\n",
    "\n",
    "df.loc[df.hr_lag == 0, 'hr_lag'] = 'all'\n",
    "df['low_ci_spacing'] = df['hr'] - df['ci_min']\n",
    "df['high_ci_spacing'] = df['ci_max'] - df['hr']\n",
    "\n",
    "df['NDD | virus | time'] = NDD['NDD'] + \" | \" + df['Virus_Description'] + \" | \" + df['hr_lag'].astype(str) + \" years\"\n",
    "\n",
    "fig = px.scatter(df, x=\"hr\", y=\"NDD | virus | time\", color=\"combo\",\n",
    "                 error_x=\"high_ci_spacing\", error_x_minus=\"low_ci_spacing\", size='N', labels={'hr':'HR and 95% CIs displayed on log scale'}, width=1250, height=1200) \n",
    "fig.update_layout(xaxis_type=\"log\")\n",
    "# fig.update_xaxes(range=[0.5, 35])\n",
    "fig.update_layout(showlegend=False)\n",
    "fig.add_vline(x=1, line_width=3, line_dash=\"dash\", line_color=\"dark grey\")\n",
    "\n",
    "fig.show()"
   ]
  }
 ],
 "metadata": {
  "colab": {
   "collapsed_sections": [],
   "name": "Finn_Gen_CI_Plots.ipynb",
   "provenance": []
  },
  "kernelspec": {
   "display_name": "Python 3 (ipykernel)",
   "language": "python",
   "name": "python3"
  },
  "language_info": {
   "codemirror_mode": {
    "name": "ipython",
    "version": 3
   },
   "file_extension": ".py",
   "mimetype": "text/x-python",
   "name": "python",
   "nbconvert_exporter": "python",
   "pygments_lexer": "ipython3",
   "version": "3.9.13"
  }
 },
 "nbformat": 4,
 "nbformat_minor": 5
}
