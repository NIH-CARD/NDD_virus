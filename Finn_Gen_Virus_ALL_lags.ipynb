{
 "cells": [
  {
   "cell_type": "markdown",
   "id": "7ecba63d",
   "metadata": {},
   "source": [
    "# FinnGenn Virus Both Directions"
   ]
  },
  {
   "cell_type": "code",
   "execution_count": null,
   "id": "7d0bee4d",
   "metadata": {},
   "outputs": [],
   "source": [
    "# Imports here.\n",
    "import numpy as np\n",
    "import pandas as pd\n",
    "import os\n",
    "import statsmodels.api as sm\n",
    "import statsmodels.formula.api as smf\n",
    "from statsmodels.stats.multitest import fdrcorrection\n",
    "import warnings\n",
    "warnings.filterwarnings(\"ignore\")\n",
    "\n",
    "#Directory in Biowulf\n",
    "os.chdir('/PATH/TO/FinnGen_Data')"
   ]
  },
  {
   "cell_type": "code",
   "execution_count": null,
   "id": "7a356c9f",
   "metadata": {},
   "outputs": [],
   "source": [
    "#Loading all the disease files\n",
    "#Files downloaded on 5-5-22\n",
    "AD_finn = pd.read_csv('G6_ALZHEIMER_survival-analyses.csv')\n",
    "ALS_finn = pd.read_csv('G6_ALS_survival-analyses.csv')\n",
    "dementia_finn = pd.read_csv('F5_DEMENTIA_survival-analyses.csv')\n",
    "MS_finn = pd.read_csv('G6_MS_survival-analyses.csv')\n",
    "PD_finn = pd.read_csv('G6_PARKINSON_survival-analyses.csv')\n",
    "vascular_finn = pd.read_csv('F5_VASCDEM_survival-analyses.csv')\n",
    "\n",
    "#Loading our serach term, i.e. list of viruses -- created in previous step \"FinnGen_Search_Terms\"\n",
    "search_terms = pd.read_csv('FinnGen_Search_Terms.csv') "
   ]
  },
  {
   "cell_type": "code",
   "execution_count": null,
   "id": "156d4d84",
   "metadata": {},
   "outputs": [],
   "source": [
    "#Pick your NDD here\n",
    "NDD = AD_finn\n",
    "ndd = \"AD\"\n",
    "NDD_code = \"G6_ALZHEIMER\""
   ]
  },
  {
   "cell_type": "code",
   "execution_count": null,
   "id": "ef861202-f2ef-49ff-b0dc-0bd45f8161a2",
   "metadata": {},
   "outputs": [],
   "source": [
    "#Select rows that are in our list of possible viruses\n",
    "virus_list = list(search_terms['phenocode'])\n",
    "had_virus_before = NDD[NDD['prior_name'].isin(virus_list)]\n",
    "had_virus_after = NDD[NDD['outcome_name'].isin(virus_list)]"
   ]
  },
  {
   "cell_type": "code",
   "execution_count": null,
   "id": "e53bf936",
   "metadata": {},
   "outputs": [],
   "source": [
    "#checking results\n",
    "print(len(had_virus_before))\n",
    "print(len(had_virus_after))"
   ]
  },
  {
   "cell_type": "code",
   "execution_count": null,
   "id": "d5ca7d2b-c88f-4737-8edb-34cd0d3966d0",
   "metadata": {},
   "outputs": [],
   "source": [
    "#Combine df for had_virus_before NDD and had_virus_after NDD\n",
    "had_virus = pd.concat([had_virus_before, had_virus_after])\n",
    "had_virus"
   ]
  },
  {
   "cell_type": "code",
   "execution_count": null,
   "id": "bf94d8a8",
   "metadata": {},
   "outputs": [],
   "source": [
    "#Adding FDR Correction\n",
    "\n",
    "#Sort P-values\n",
    "had_virus = had_virus.sort_values(by = \"p\")\n",
    "\n",
    "#FDR Correction\n",
    "rejected, p_corr = fdrcorrection(had_virus['p'], is_sorted=True)\n",
    "had_virus['P_CORR'] = p_corr\n",
    "had_virus['REJECTED'] = rejected"
   ]
  },
  {
   "cell_type": "code",
   "execution_count": null,
   "id": "4c10a5e7",
   "metadata": {},
   "outputs": [],
   "source": [
    "#Checking results\n",
    "had_virus.head()"
   ]
  },
  {
   "cell_type": "code",
   "execution_count": null,
   "id": "88455260-9ca7-4163-9e62-cc65faee5166",
   "metadata": {},
   "outputs": [],
   "source": [
    "#Making sure we have data in both directions\n",
    "prior_list = had_virus['prior_name']\n",
    "outcome_list = had_virus['outcome_name']\n",
    "\n",
    "a_set = set(prior_list)\n",
    "b_set = set(outcome_list)\n",
    "if (a_set & b_set):\n",
    "    both = (a_set & b_set)\n",
    "else:\n",
    "    print(\"No common elements\")\n",
    "\n",
    "both_lists = list(both)\n",
    "both_lists.remove(NDD_code)\n",
    "\n",
    "#Print list of viral codes for which we have data in both directions\n",
    "print(len(both_lists))\n",
    "print(both_lists)"
   ]
  },
  {
   "cell_type": "code",
   "execution_count": null,
   "id": "0cf2dc25-d229-4c43-8965-778fa2a4847b",
   "metadata": {},
   "outputs": [],
   "source": [
    "#Only keep viral codes where we have data in both directions \n",
    "had_virus_before = had_virus[had_virus['prior_name'].isin(both_lists)]\n",
    "had_virus_after = had_virus[had_virus['outcome_name'].isin(both_lists)]\n",
    "had_virus = pd.concat([had_virus_before, had_virus_after])\n",
    "print(len(had_virus))\n",
    "had_virus.head()"
   ]
  },
  {
   "cell_type": "code",
   "execution_count": null,
   "id": "9c6335cd",
   "metadata": {},
   "outputs": [],
   "source": [
    "#Save to csv\n",
    "had_virus.to_csv(\"/PATH/TO/regression_results/\" + ndd + \"_finn_gen_BOTH.csv\", index=False)"
   ]
  }
 ],
 "metadata": {
  "kernelspec": {
   "display_name": "Python 3 (ipykernel)",
   "language": "python",
   "name": "python3"
  },
  "language_info": {
   "codemirror_mode": {
    "name": "ipython",
    "version": 3
   },
   "file_extension": ".py",
   "mimetype": "text/x-python",
   "name": "python",
   "nbconvert_exporter": "python",
   "pygments_lexer": "ipython3",
   "version": "3.9.13"
  }
 },
 "nbformat": 4,
 "nbformat_minor": 5
}
